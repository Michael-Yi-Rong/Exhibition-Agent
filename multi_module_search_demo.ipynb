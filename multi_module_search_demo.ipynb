{
 "cells": [
  {
   "cell_type": "code",
   "execution_count": 1,
   "id": "1c434ab6",
   "metadata": {},
   "outputs": [],
   "source": [
    "import pandas as pd\n",
    "import numpy as np\n",
    "import requests\n",
    "from PIL import Image\n",
    "from io import BytesIO\n",
    "import os\n",
    "from transformers import CLIPProcessor, CLIPModel\n",
    "import torch\n",
    "import torch.nn.functional as F\n",
    "from PIL import Image\n",
    "import matplotlib.pyplot as plt"
   ]
  },
  {
   "cell_type": "code",
   "execution_count": 2,
   "id": "8dd03ef9",
   "metadata": {},
   "outputs": [],
   "source": [
    "df_offline = pd.read_csv(\"./datasets/exhibition_feature_offline.csv\")"
   ]
  },
  {
   "cell_type": "code",
   "execution_count": 3,
   "id": "1bf0531b",
   "metadata": {},
   "outputs": [
    {
     "data": {
      "text/html": [
       "<div>\n",
       "<style scoped>\n",
       "    .dataframe tbody tr th:only-of-type {\n",
       "        vertical-align: middle;\n",
       "    }\n",
       "\n",
       "    .dataframe tbody tr th {\n",
       "        vertical-align: top;\n",
       "    }\n",
       "\n",
       "    .dataframe thead th {\n",
       "        text-align: right;\n",
       "    }\n",
       "</style>\n",
       "<table border=\"1\" class=\"dataframe\">\n",
       "  <thead>\n",
       "    <tr style=\"text-align: right;\">\n",
       "      <th></th>\n",
       "      <th>systemNumber</th>\n",
       "      <th>_images__primary_thumbnail</th>\n",
       "      <th>briefDescription</th>\n",
       "      <th>local_image_path</th>\n",
       "      <th>text_features</th>\n",
       "      <th>image_features</th>\n",
       "    </tr>\n",
       "  </thead>\n",
       "  <tbody>\n",
       "    <tr>\n",
       "      <th>0</th>\n",
       "      <td>O22904</td>\n",
       "      <td>https://framemark.vam.ac.uk/collections/2006AW...</td>\n",
       "      <td>Yixing ware. Teapot, brown stoneware in the fo...</td>\n",
       "      <td>downloaded_images\\O22904.jpg</td>\n",
       "      <td>[-5.36122499e-03  4.14749831e-02 -1.02468720e-...</td>\n",
       "      <td>[-4.50202860e-02  3.41264419e-02 -1.09552601e-...</td>\n",
       "    </tr>\n",
       "    <tr>\n",
       "      <th>1</th>\n",
       "      <td>O187757</td>\n",
       "      <td>https://framemark.vam.ac.uk/collections/2010EB...</td>\n",
       "      <td>Yixing ware. Dish, in the form of a peach with...</td>\n",
       "      <td>downloaded_images\\O187757.jpg</td>\n",
       "      <td>[-5.90480603e-02  4.59225550e-02  2.14791596e-...</td>\n",
       "      <td>[-4.90153357e-02  4.63838950e-02 -1.33689586e-...</td>\n",
       "    </tr>\n",
       "    <tr>\n",
       "      <th>2</th>\n",
       "      <td>O185533</td>\n",
       "      <td>https://framemark.vam.ac.uk/collections/2010EB...</td>\n",
       "      <td>Yixing ware. Vase, brown stoneware with mottle...</td>\n",
       "      <td>downloaded_images\\O185533.jpg</td>\n",
       "      <td>[ 1.61672626e-02  5.09738922e-02 -1.10796411e-...</td>\n",
       "      <td>[-1.77562907e-02  3.89144011e-02 -2.48709787e-...</td>\n",
       "    </tr>\n",
       "    <tr>\n",
       "      <th>3</th>\n",
       "      <td>O162180</td>\n",
       "      <td>https://framemark.vam.ac.uk/collections/2014GY...</td>\n",
       "      <td>Salt-glazed stoneware tankard with pewter moun...</td>\n",
       "      <td>downloaded_images\\O162180.jpg</td>\n",
       "      <td>[-1.06526930e-02  8.34742337e-02 -7.06270849e-...</td>\n",
       "      <td>[-3.01263910e-02  5.84345460e-02 -9.31857806e-...</td>\n",
       "    </tr>\n",
       "    <tr>\n",
       "      <th>4</th>\n",
       "      <td>O151257</td>\n",
       "      <td>https://framemark.vam.ac.uk/collections/2008BV...</td>\n",
       "      <td>NaN</td>\n",
       "      <td>downloaded_images\\O151257.jpg</td>\n",
       "      <td>NaN</td>\n",
       "      <td>[ 9.80557501e-03  3.51845659e-02 -5.12989529e-...</td>\n",
       "    </tr>\n",
       "    <tr>\n",
       "      <th>...</th>\n",
       "      <td>...</td>\n",
       "      <td>...</td>\n",
       "      <td>...</td>\n",
       "      <td>...</td>\n",
       "      <td>...</td>\n",
       "      <td>...</td>\n",
       "    </tr>\n",
       "    <tr>\n",
       "      <th>1945</th>\n",
       "      <td>O157075</td>\n",
       "      <td>https://framemark.vam.ac.uk/collections/2009CP...</td>\n",
       "      <td>Silver, parcel-gilt, London, (no hallmarks), c...</td>\n",
       "      <td>downloaded_images\\O157075.jpg</td>\n",
       "      <td>[-2.09466629e-02 -5.99700119e-03 -1.30470376e-...</td>\n",
       "      <td>[-2.56949123e-02  3.50271538e-02 -1.14793461e-...</td>\n",
       "    </tr>\n",
       "    <tr>\n",
       "      <th>1946</th>\n",
       "      <td>O148514</td>\n",
       "      <td>https://framemark.vam.ac.uk/collections/2008BT...</td>\n",
       "      <td>Red earthenware tyg with relief decoration in ...</td>\n",
       "      <td>downloaded_images\\O148514.jpg</td>\n",
       "      <td>[-4.32110094e-02  6.54722080e-02 -9.36303940e-...</td>\n",
       "      <td>[-1.20778959e-02  5.06230667e-02  2.03046091e-...</td>\n",
       "    </tr>\n",
       "    <tr>\n",
       "      <th>1947</th>\n",
       "      <td>O8072</td>\n",
       "      <td>https://framemark.vam.ac.uk/collections/2006AJ...</td>\n",
       "      <td>Delftware mug, painted in blue with birds, flo...</td>\n",
       "      <td>downloaded_images\\O8072.jpg</td>\n",
       "      <td>[ 2.64659263e-02  1.71568501e-03  2.48342901e-...</td>\n",
       "      <td>[-3.16911116e-02  3.43128294e-02  1.76959112e-...</td>\n",
       "    </tr>\n",
       "    <tr>\n",
       "      <th>1948</th>\n",
       "      <td>O70493</td>\n",
       "      <td>https://framemark.vam.ac.uk/collections/2008BT...</td>\n",
       "      <td>Tea bowl, Raku ware, Kyoto, attributed to Raku...</td>\n",
       "      <td>downloaded_images\\O70493.jpg</td>\n",
       "      <td>[-5.33806439e-03  6.22669011e-02  4.04261909e-...</td>\n",
       "      <td>[ 3.36328335e-03  1.83518305e-02 -2.81873271e-...</td>\n",
       "    </tr>\n",
       "    <tr>\n",
       "      <th>1949</th>\n",
       "      <td>O438372</td>\n",
       "      <td>https://framemark.vam.ac.uk/collections/2020ML...</td>\n",
       "      <td>NaN</td>\n",
       "      <td>downloaded_images\\O438372.jpg</td>\n",
       "      <td>NaN</td>\n",
       "      <td>[-3.42907608e-02  3.15425023e-02  5.61946763e-...</td>\n",
       "    </tr>\n",
       "  </tbody>\n",
       "</table>\n",
       "<p>1950 rows × 6 columns</p>\n",
       "</div>"
      ],
      "text/plain": [
       "     systemNumber                         _images__primary_thumbnail  \\\n",
       "0          O22904  https://framemark.vam.ac.uk/collections/2006AW...   \n",
       "1         O187757  https://framemark.vam.ac.uk/collections/2010EB...   \n",
       "2         O185533  https://framemark.vam.ac.uk/collections/2010EB...   \n",
       "3         O162180  https://framemark.vam.ac.uk/collections/2014GY...   \n",
       "4         O151257  https://framemark.vam.ac.uk/collections/2008BV...   \n",
       "...           ...                                                ...   \n",
       "1945      O157075  https://framemark.vam.ac.uk/collections/2009CP...   \n",
       "1946      O148514  https://framemark.vam.ac.uk/collections/2008BT...   \n",
       "1947        O8072  https://framemark.vam.ac.uk/collections/2006AJ...   \n",
       "1948       O70493  https://framemark.vam.ac.uk/collections/2008BT...   \n",
       "1949      O438372  https://framemark.vam.ac.uk/collections/2020ML...   \n",
       "\n",
       "                                       briefDescription  \\\n",
       "0     Yixing ware. Teapot, brown stoneware in the fo...   \n",
       "1     Yixing ware. Dish, in the form of a peach with...   \n",
       "2     Yixing ware. Vase, brown stoneware with mottle...   \n",
       "3     Salt-glazed stoneware tankard with pewter moun...   \n",
       "4                                                   NaN   \n",
       "...                                                 ...   \n",
       "1945  Silver, parcel-gilt, London, (no hallmarks), c...   \n",
       "1946  Red earthenware tyg with relief decoration in ...   \n",
       "1947  Delftware mug, painted in blue with birds, flo...   \n",
       "1948  Tea bowl, Raku ware, Kyoto, attributed to Raku...   \n",
       "1949                                                NaN   \n",
       "\n",
       "                   local_image_path  \\\n",
       "0      downloaded_images\\O22904.jpg   \n",
       "1     downloaded_images\\O187757.jpg   \n",
       "2     downloaded_images\\O185533.jpg   \n",
       "3     downloaded_images\\O162180.jpg   \n",
       "4     downloaded_images\\O151257.jpg   \n",
       "...                             ...   \n",
       "1945  downloaded_images\\O157075.jpg   \n",
       "1946  downloaded_images\\O148514.jpg   \n",
       "1947    downloaded_images\\O8072.jpg   \n",
       "1948   downloaded_images\\O70493.jpg   \n",
       "1949  downloaded_images\\O438372.jpg   \n",
       "\n",
       "                                          text_features  \\\n",
       "0     [-5.36122499e-03  4.14749831e-02 -1.02468720e-...   \n",
       "1     [-5.90480603e-02  4.59225550e-02  2.14791596e-...   \n",
       "2     [ 1.61672626e-02  5.09738922e-02 -1.10796411e-...   \n",
       "3     [-1.06526930e-02  8.34742337e-02 -7.06270849e-...   \n",
       "4                                                   NaN   \n",
       "...                                                 ...   \n",
       "1945  [-2.09466629e-02 -5.99700119e-03 -1.30470376e-...   \n",
       "1946  [-4.32110094e-02  6.54722080e-02 -9.36303940e-...   \n",
       "1947  [ 2.64659263e-02  1.71568501e-03  2.48342901e-...   \n",
       "1948  [-5.33806439e-03  6.22669011e-02  4.04261909e-...   \n",
       "1949                                                NaN   \n",
       "\n",
       "                                         image_features  \n",
       "0     [-4.50202860e-02  3.41264419e-02 -1.09552601e-...  \n",
       "1     [-4.90153357e-02  4.63838950e-02 -1.33689586e-...  \n",
       "2     [-1.77562907e-02  3.89144011e-02 -2.48709787e-...  \n",
       "3     [-3.01263910e-02  5.84345460e-02 -9.31857806e-...  \n",
       "4     [ 9.80557501e-03  3.51845659e-02 -5.12989529e-...  \n",
       "...                                                 ...  \n",
       "1945  [-2.56949123e-02  3.50271538e-02 -1.14793461e-...  \n",
       "1946  [-1.20778959e-02  5.06230667e-02  2.03046091e-...  \n",
       "1947  [-3.16911116e-02  3.43128294e-02  1.76959112e-...  \n",
       "1948  [ 3.36328335e-03  1.83518305e-02 -2.81873271e-...  \n",
       "1949  [-3.42907608e-02  3.15425023e-02  5.61946763e-...  \n",
       "\n",
       "[1950 rows x 6 columns]"
      ]
     },
     "execution_count": 3,
     "metadata": {},
     "output_type": "execute_result"
    }
   ],
   "source": [
    "df_offline"
   ]
  },
  {
   "cell_type": "code",
   "execution_count": 4,
   "id": "c14f91eb",
   "metadata": {},
   "outputs": [],
   "source": [
    "# 使用训练好的CLIP模型\n",
    "model = CLIPModel.from_pretrained(\"D:\\_HuggingFace_\\clip-vit-base-patch32\")\n",
    "processor = CLIPProcessor.from_pretrained(\"D:\\_HuggingFace_\\clip-vit-base-patch32\")"
   ]
  },
  {
   "cell_type": "code",
   "execution_count": 5,
   "id": "d974f8ce",
   "metadata": {},
   "outputs": [
    {
     "name": "stdout",
     "output_type": "stream",
     "text": [
      "Text Embedding Dimension: Linear(in_features=512, out_features=512, bias=False)\n",
      "Image Embedding Dimension: Linear(in_features=768, out_features=512, bias=False)\n"
     ]
    }
   ],
   "source": [
    "text_embed_dim = model.text_projection\n",
    "image_embed_dim = model.visual_projection\n",
    "\n",
    "print(f\"Text Embedding Dimension: {text_embed_dim}\")\n",
    "print(f\"Image Embedding Dimension: {image_embed_dim}\")"
   ]
  },
  {
   "cell_type": "code",
   "execution_count": 6,
   "id": "e9220f01",
   "metadata": {},
   "outputs": [],
   "source": [
    "# df_offline = df_offline.dropna()"
   ]
  },
  {
   "cell_type": "code",
   "execution_count": 7,
   "id": "6e51204d",
   "metadata": {},
   "outputs": [],
   "source": [
    "def parse_text_features(x):\n",
    "    if pd.isna(x): \n",
    "        return np.zeros(512) \n",
    "    else:\n",
    "        try:\n",
    "            return np.fromstring(x.strip('[]'), sep=' ')  \n",
    "        except Exception as e:\n",
    "            print(f\"Error parsing '{x}': {e}\")\n",
    "            return np.zeros(512) "
   ]
  },
  {
   "cell_type": "code",
   "execution_count": 8,
   "id": "5d6e7122",
   "metadata": {},
   "outputs": [],
   "source": [
    "df_offline['text_features'] = df_offline['text_features'].apply(lambda x: parse_text_features(x))\n",
    "df_offline['image_features'] = df_offline['image_features'].apply(lambda x: parse_text_features(x))"
   ]
  },
  {
   "cell_type": "code",
   "execution_count": 9,
   "id": "539565f2",
   "metadata": {},
   "outputs": [],
   "source": [
    "# df_offline['text_features'] = df_offline['text_features'].apply(lambda x: np.fromstring(x.strip('[]'), sep=' '))\n",
    "# df_offline['image_features'] = df_offline['image_features'].apply(lambda x: np.fromstring(x.strip('[]'), sep=' '))"
   ]
  },
  {
   "cell_type": "code",
   "execution_count": 10,
   "id": "567282e2",
   "metadata": {},
   "outputs": [
    {
     "name": "stderr",
     "output_type": "stream",
     "text": [
      "D:\\Anaconda\\envs\\python37\\lib\\site-packages\\ipykernel_launcher.py:1: UserWarning: Creating a tensor from a list of numpy.ndarrays is extremely slow. Please consider converting the list to a single numpy.ndarray with numpy.array() before converting to a tensor. (Triggered internally at C:\\cb\\pytorch_1000000000000\\work\\torch\\csrc\\utils\\tensor_new.cpp:233.)\n",
      "  \"\"\"Entry point for launching an IPython kernel.\n"
     ]
    }
   ],
   "source": [
    "text_features_tensor = torch.tensor(df_offline['text_features'].tolist(), dtype=torch.float32)\n",
    "image_features_tensor = torch.tensor(df_offline['image_features'].tolist(), dtype=torch.float32)"
   ]
  },
  {
   "cell_type": "code",
   "execution_count": 11,
   "id": "178f5313",
   "metadata": {},
   "outputs": [
    {
     "data": {
      "text/plain": [
       "True"
      ]
     },
     "execution_count": 11,
     "metadata": {},
     "output_type": "execute_result"
    }
   ],
   "source": [
    "text_features_tensor.shape == image_features_tensor.shape"
   ]
  },
  {
   "cell_type": "code",
   "execution_count": 12,
   "id": "8ad89307",
   "metadata": {},
   "outputs": [],
   "source": [
    "combined_features_tensor = text_features_tensor + image_features_tensor\n",
    "combined_features_array = combined_features_tensor.numpy()\n",
    "\n",
    "df_offline['combined_features'] = list(combined_features_array)"
   ]
  },
  {
   "cell_type": "code",
   "execution_count": 13,
   "id": "d2931944",
   "metadata": {
    "scrolled": false
   },
   "outputs": [
    {
     "data": {
      "text/html": [
       "<div>\n",
       "<style scoped>\n",
       "    .dataframe tbody tr th:only-of-type {\n",
       "        vertical-align: middle;\n",
       "    }\n",
       "\n",
       "    .dataframe tbody tr th {\n",
       "        vertical-align: top;\n",
       "    }\n",
       "\n",
       "    .dataframe thead th {\n",
       "        text-align: right;\n",
       "    }\n",
       "</style>\n",
       "<table border=\"1\" class=\"dataframe\">\n",
       "  <thead>\n",
       "    <tr style=\"text-align: right;\">\n",
       "      <th></th>\n",
       "      <th>systemNumber</th>\n",
       "      <th>_images__primary_thumbnail</th>\n",
       "      <th>briefDescription</th>\n",
       "      <th>local_image_path</th>\n",
       "      <th>text_features</th>\n",
       "      <th>image_features</th>\n",
       "      <th>combined_features</th>\n",
       "    </tr>\n",
       "  </thead>\n",
       "  <tbody>\n",
       "    <tr>\n",
       "      <th>0</th>\n",
       "      <td>O22904</td>\n",
       "      <td>https://framemark.vam.ac.uk/collections/2006AW...</td>\n",
       "      <td>Yixing ware. Teapot, brown stoneware in the fo...</td>\n",
       "      <td>downloaded_images\\O22904.jpg</td>\n",
       "      <td>[-0.00536122499, 0.0414749831, -0.010246872, -...</td>\n",
       "      <td>[-0.045020286, 0.0341264419, -0.0109552601, -0...</td>\n",
       "      <td>[-0.05038151, 0.07560143, -0.021202132, -0.063...</td>\n",
       "    </tr>\n",
       "    <tr>\n",
       "      <th>1</th>\n",
       "      <td>O187757</td>\n",
       "      <td>https://framemark.vam.ac.uk/collections/2010EB...</td>\n",
       "      <td>Yixing ware. Dish, in the form of a peach with...</td>\n",
       "      <td>downloaded_images\\O187757.jpg</td>\n",
       "      <td>[-0.0590480603, 0.045922555, 0.0214791596, -0....</td>\n",
       "      <td>[-0.0490153357, 0.046383895, -0.0133689586, -0...</td>\n",
       "      <td>[-0.1080634, 0.09230645, 0.008110201, -0.05763...</td>\n",
       "    </tr>\n",
       "    <tr>\n",
       "      <th>2</th>\n",
       "      <td>O185533</td>\n",
       "      <td>https://framemark.vam.ac.uk/collections/2010EB...</td>\n",
       "      <td>Yixing ware. Vase, brown stoneware with mottle...</td>\n",
       "      <td>downloaded_images\\O185533.jpg</td>\n",
       "      <td>[0.0161672626, 0.0509738922, -0.0110796411, -0...</td>\n",
       "      <td>[-0.0177562907, 0.0389144011, -0.0248709787, -...</td>\n",
       "      <td>[-0.0015890282, 0.08988829, -0.03595062, -0.05...</td>\n",
       "    </tr>\n",
       "    <tr>\n",
       "      <th>3</th>\n",
       "      <td>O162180</td>\n",
       "      <td>https://framemark.vam.ac.uk/collections/2014GY...</td>\n",
       "      <td>Salt-glazed stoneware tankard with pewter moun...</td>\n",
       "      <td>downloaded_images\\O162180.jpg</td>\n",
       "      <td>[-0.010652693, 0.0834742337, -0.00706270849, -...</td>\n",
       "      <td>[-0.030126391, 0.058434546, -0.00931857806, -0...</td>\n",
       "      <td>[-0.040779084, 0.14190878, -0.016381286, -0.02...</td>\n",
       "    </tr>\n",
       "    <tr>\n",
       "      <th>4</th>\n",
       "      <td>O151257</td>\n",
       "      <td>https://framemark.vam.ac.uk/collections/2008BV...</td>\n",
       "      <td>NaN</td>\n",
       "      <td>downloaded_images\\O151257.jpg</td>\n",
       "      <td>[0.0, 0.0, 0.0, 0.0, 0.0, 0.0, 0.0, 0.0, 0.0, ...</td>\n",
       "      <td>[0.00980557501, 0.0351845659, -0.000512989529,...</td>\n",
       "      <td>[0.009805575, 0.035184566, -0.0005129895, -0.0...</td>\n",
       "    </tr>\n",
       "    <tr>\n",
       "      <th>...</th>\n",
       "      <td>...</td>\n",
       "      <td>...</td>\n",
       "      <td>...</td>\n",
       "      <td>...</td>\n",
       "      <td>...</td>\n",
       "      <td>...</td>\n",
       "      <td>...</td>\n",
       "    </tr>\n",
       "    <tr>\n",
       "      <th>1945</th>\n",
       "      <td>O157075</td>\n",
       "      <td>https://framemark.vam.ac.uk/collections/2009CP...</td>\n",
       "      <td>Silver, parcel-gilt, London, (no hallmarks), c...</td>\n",
       "      <td>downloaded_images\\O157075.jpg</td>\n",
       "      <td>[-0.0209466629, -0.00599700119, -0.0130470376,...</td>\n",
       "      <td>[-0.0256949123, 0.0350271538, -0.0114793461, 0...</td>\n",
       "      <td>[-0.046641573, 0.029030152, -0.024526384, 0.05...</td>\n",
       "    </tr>\n",
       "    <tr>\n",
       "      <th>1946</th>\n",
       "      <td>O148514</td>\n",
       "      <td>https://framemark.vam.ac.uk/collections/2008BT...</td>\n",
       "      <td>Red earthenware tyg with relief decoration in ...</td>\n",
       "      <td>downloaded_images\\O148514.jpg</td>\n",
       "      <td>[-0.0432110094, 0.065472208, -0.0093630394, 0....</td>\n",
       "      <td>[-0.0120778959, 0.0506230667, 0.0203046091, 0....</td>\n",
       "      <td>[-0.055288903, 0.116095275, 0.01094157, 0.0365...</td>\n",
       "    </tr>\n",
       "    <tr>\n",
       "      <th>1947</th>\n",
       "      <td>O8072</td>\n",
       "      <td>https://framemark.vam.ac.uk/collections/2006AJ...</td>\n",
       "      <td>Delftware mug, painted in blue with birds, flo...</td>\n",
       "      <td>downloaded_images\\O8072.jpg</td>\n",
       "      <td>[0.0264659263, 0.00171568501, 0.0248342901, 0....</td>\n",
       "      <td>[-0.0316911116, 0.0343128294, 0.0176959112, 0....</td>\n",
       "      <td>[-0.0052251853, 0.036028516, 0.0425302, 0.0350...</td>\n",
       "    </tr>\n",
       "    <tr>\n",
       "      <th>1948</th>\n",
       "      <td>O70493</td>\n",
       "      <td>https://framemark.vam.ac.uk/collections/2008BT...</td>\n",
       "      <td>Tea bowl, Raku ware, Kyoto, attributed to Raku...</td>\n",
       "      <td>downloaded_images\\O70493.jpg</td>\n",
       "      <td>[-0.00533806439, 0.0622669011, 0.0404261909, -...</td>\n",
       "      <td>[0.00336328335, 0.0183518305, -0.0281873271, -...</td>\n",
       "      <td>[-0.001974781, 0.08061873, 0.012238864, -0.019...</td>\n",
       "    </tr>\n",
       "    <tr>\n",
       "      <th>1949</th>\n",
       "      <td>O438372</td>\n",
       "      <td>https://framemark.vam.ac.uk/collections/2020ML...</td>\n",
       "      <td>NaN</td>\n",
       "      <td>downloaded_images\\O438372.jpg</td>\n",
       "      <td>[0.0, 0.0, 0.0, 0.0, 0.0, 0.0, 0.0, 0.0, 0.0, ...</td>\n",
       "      <td>[-0.0342907608, 0.0315425023, 5.61946763e-05, ...</td>\n",
       "      <td>[-0.03429076, 0.031542502, 5.6194676e-05, -0.0...</td>\n",
       "    </tr>\n",
       "  </tbody>\n",
       "</table>\n",
       "<p>1950 rows × 7 columns</p>\n",
       "</div>"
      ],
      "text/plain": [
       "     systemNumber                         _images__primary_thumbnail  \\\n",
       "0          O22904  https://framemark.vam.ac.uk/collections/2006AW...   \n",
       "1         O187757  https://framemark.vam.ac.uk/collections/2010EB...   \n",
       "2         O185533  https://framemark.vam.ac.uk/collections/2010EB...   \n",
       "3         O162180  https://framemark.vam.ac.uk/collections/2014GY...   \n",
       "4         O151257  https://framemark.vam.ac.uk/collections/2008BV...   \n",
       "...           ...                                                ...   \n",
       "1945      O157075  https://framemark.vam.ac.uk/collections/2009CP...   \n",
       "1946      O148514  https://framemark.vam.ac.uk/collections/2008BT...   \n",
       "1947        O8072  https://framemark.vam.ac.uk/collections/2006AJ...   \n",
       "1948       O70493  https://framemark.vam.ac.uk/collections/2008BT...   \n",
       "1949      O438372  https://framemark.vam.ac.uk/collections/2020ML...   \n",
       "\n",
       "                                       briefDescription  \\\n",
       "0     Yixing ware. Teapot, brown stoneware in the fo...   \n",
       "1     Yixing ware. Dish, in the form of a peach with...   \n",
       "2     Yixing ware. Vase, brown stoneware with mottle...   \n",
       "3     Salt-glazed stoneware tankard with pewter moun...   \n",
       "4                                                   NaN   \n",
       "...                                                 ...   \n",
       "1945  Silver, parcel-gilt, London, (no hallmarks), c...   \n",
       "1946  Red earthenware tyg with relief decoration in ...   \n",
       "1947  Delftware mug, painted in blue with birds, flo...   \n",
       "1948  Tea bowl, Raku ware, Kyoto, attributed to Raku...   \n",
       "1949                                                NaN   \n",
       "\n",
       "                   local_image_path  \\\n",
       "0      downloaded_images\\O22904.jpg   \n",
       "1     downloaded_images\\O187757.jpg   \n",
       "2     downloaded_images\\O185533.jpg   \n",
       "3     downloaded_images\\O162180.jpg   \n",
       "4     downloaded_images\\O151257.jpg   \n",
       "...                             ...   \n",
       "1945  downloaded_images\\O157075.jpg   \n",
       "1946  downloaded_images\\O148514.jpg   \n",
       "1947    downloaded_images\\O8072.jpg   \n",
       "1948   downloaded_images\\O70493.jpg   \n",
       "1949  downloaded_images\\O438372.jpg   \n",
       "\n",
       "                                          text_features  \\\n",
       "0     [-0.00536122499, 0.0414749831, -0.010246872, -...   \n",
       "1     [-0.0590480603, 0.045922555, 0.0214791596, -0....   \n",
       "2     [0.0161672626, 0.0509738922, -0.0110796411, -0...   \n",
       "3     [-0.010652693, 0.0834742337, -0.00706270849, -...   \n",
       "4     [0.0, 0.0, 0.0, 0.0, 0.0, 0.0, 0.0, 0.0, 0.0, ...   \n",
       "...                                                 ...   \n",
       "1945  [-0.0209466629, -0.00599700119, -0.0130470376,...   \n",
       "1946  [-0.0432110094, 0.065472208, -0.0093630394, 0....   \n",
       "1947  [0.0264659263, 0.00171568501, 0.0248342901, 0....   \n",
       "1948  [-0.00533806439, 0.0622669011, 0.0404261909, -...   \n",
       "1949  [0.0, 0.0, 0.0, 0.0, 0.0, 0.0, 0.0, 0.0, 0.0, ...   \n",
       "\n",
       "                                         image_features  \\\n",
       "0     [-0.045020286, 0.0341264419, -0.0109552601, -0...   \n",
       "1     [-0.0490153357, 0.046383895, -0.0133689586, -0...   \n",
       "2     [-0.0177562907, 0.0389144011, -0.0248709787, -...   \n",
       "3     [-0.030126391, 0.058434546, -0.00931857806, -0...   \n",
       "4     [0.00980557501, 0.0351845659, -0.000512989529,...   \n",
       "...                                                 ...   \n",
       "1945  [-0.0256949123, 0.0350271538, -0.0114793461, 0...   \n",
       "1946  [-0.0120778959, 0.0506230667, 0.0203046091, 0....   \n",
       "1947  [-0.0316911116, 0.0343128294, 0.0176959112, 0....   \n",
       "1948  [0.00336328335, 0.0183518305, -0.0281873271, -...   \n",
       "1949  [-0.0342907608, 0.0315425023, 5.61946763e-05, ...   \n",
       "\n",
       "                                      combined_features  \n",
       "0     [-0.05038151, 0.07560143, -0.021202132, -0.063...  \n",
       "1     [-0.1080634, 0.09230645, 0.008110201, -0.05763...  \n",
       "2     [-0.0015890282, 0.08988829, -0.03595062, -0.05...  \n",
       "3     [-0.040779084, 0.14190878, -0.016381286, -0.02...  \n",
       "4     [0.009805575, 0.035184566, -0.0005129895, -0.0...  \n",
       "...                                                 ...  \n",
       "1945  [-0.046641573, 0.029030152, -0.024526384, 0.05...  \n",
       "1946  [-0.055288903, 0.116095275, 0.01094157, 0.0365...  \n",
       "1947  [-0.0052251853, 0.036028516, 0.0425302, 0.0350...  \n",
       "1948  [-0.001974781, 0.08061873, 0.012238864, -0.019...  \n",
       "1949  [-0.03429076, 0.031542502, 5.6194676e-05, -0.0...  \n",
       "\n",
       "[1950 rows x 7 columns]"
      ]
     },
     "execution_count": 13,
     "metadata": {},
     "output_type": "execute_result"
    }
   ],
   "source": [
    "df_offline"
   ]
  },
  {
   "cell_type": "code",
   "execution_count": 14,
   "id": "3c3d5cf0",
   "metadata": {},
   "outputs": [],
   "source": [
    "# 导出数据\n",
    "output_file_path = './datasets/exhibition_feature_offline_combined.csv'\n",
    "df_offline.to_csv(output_file_path, index=False)"
   ]
  },
  {
   "cell_type": "code",
   "execution_count": 15,
   "id": "560538a5",
   "metadata": {},
   "outputs": [],
   "source": [
    "# 计算余弦相似度\n",
    "def cosine_similarity(query, items):\n",
    "    # query: [1, 512], items: [num_items, 512]\n",
    "    query = F.normalize(query, p=2, dim=-1)\n",
    "    items = F.normalize(items, p=2, dim=-1)\n",
    "    return torch.mm(query, items.t()) "
   ]
  },
  {
   "cell_type": "code",
   "execution_count": 16,
   "id": "4c04194b",
   "metadata": {},
   "outputs": [],
   "source": [
    "# 检索函数\n",
    "def search(user_query_text=None, user_query_image=None, k=5):\n",
    "    \n",
    "    if user_query_text is not None and user_query_image is not None:\n",
    "        combined_query = user_query_text + user_query_image\n",
    "        similarity_scores = cosine_similarity(combined_query.unsqueeze(0), combined_features_tensor)\n",
    "        \n",
    "    elif user_query_text is not None:\n",
    "        similarity_scores = cosine_similarity(user_query_text.unsqueeze(0), text_features_tensor)\n",
    "        \n",
    "    elif user_query_image is not None:\n",
    "        similarity_scores = cosine_similarity(user_query_image.unsqueeze(0), image_features_tensor)\n",
    "        \n",
    "    else:\n",
    "        raise ValueError(\"At least one of user_query_text or user_query_image must be provided.\")\n",
    "        \n",
    "    top_k_indices = torch.topk(similarity_scores, k, dim=1).indices.squeeze(0)\n",
    "\n",
    "    search_items = top_k_indices.tolist()\n",
    "    return search_items"
   ]
  },
  {
   "cell_type": "code",
   "execution_count": 17,
   "id": "383b48ff",
   "metadata": {},
   "outputs": [],
   "source": [
    "# 展示结果\n",
    "def display_most_similar(most_similar_df):\n",
    "    for idx, row in most_similar_df.iterrows():\n",
    "        print(f\"\\nSystem Number: {row['systemNumber']}\")\n",
    "        print(f\"Brief Description: {row.get('briefDescription', 'No brief description available')}\")\n",
    "        image_link = row.get('images__primary_thumbnail', 'No image link available')\n",
    "        print(f\"Image Link: {image_link}\")\n",
    "        gallery_label = row.get('galleryLabels_0_text', 'No gallery label available')\n",
    "        image_filename = f\"{row['systemNumber']}.jpg\"\n",
    "        image_path = os.path.join(\".\\downloaded_images\", image_filename)\n",
    "        \n",
    "        if os.path.exists(image_path):\n",
    "            try:\n",
    "                img = Image.open(image_path)\n",
    "                plt.figure(figsize=(6, 6))\n",
    "                plt.imshow(img)\n",
    "                plt.axis('off')\n",
    "                plt.show()\n",
    "            except Exception as e:\n",
    "                print(f\"Failed to display image {image_path}: {e}\")\n",
    "        else:\n",
    "            print(\"No image available for this system number.\")\n",
    "        print(\"=\" * 100)"
   ]
  },
  {
   "cell_type": "code",
   "execution_count": 18,
   "id": "4da5c22d",
   "metadata": {},
   "outputs": [],
   "source": [
    "# should be input\n",
    "# user_query_text = wenwu_offline['text_features'][0]\n",
    "# user_query_image = wenwu_offline['image_features'][0]\n",
    "\n",
    "# user_query_text = torch.tensor(user_query_text, dtype=torch.float32)\n",
    "# user_query_image = torch.tensor(user_query_image, dtype=torch.float32)"
   ]
  },
  {
   "cell_type": "code",
   "execution_count": 19,
   "id": "f6fac301",
   "metadata": {
    "scrolled": false
   },
   "outputs": [],
   "source": [
    "# image & text\n",
    "# recommended_items = recommend_items(user_query_text=user_query_text, user_query_image=user_query_image)\n",
    "# selected_rows = wenwu_offline.iloc[recommended_items]\n",
    "\n",
    "# display_most_similar(selected_rows)"
   ]
  },
  {
   "cell_type": "code",
   "execution_count": 20,
   "id": "d2a9288d",
   "metadata": {},
   "outputs": [],
   "source": [
    "# Simulations"
   ]
  },
  {
   "cell_type": "code",
   "execution_count": 21,
   "id": "b4b8f61c",
   "metadata": {},
   "outputs": [],
   "source": [
    "# 读取txt文件\n",
    "def read_text_file(file_path):\n",
    "    with open(file_path, 'r', encoding='utf-8') as file:\n",
    "        content = file.read()\n",
    "    return content"
   ]
  },
  {
   "cell_type": "code",
   "execution_count": 22,
   "id": "5e637012",
   "metadata": {},
   "outputs": [],
   "source": [
    "# 处理图像\n",
    "def preprocess_image(image_path, target_size=(100, 100)):\n",
    "    image = Image.open(image_path).convert(\"RGB\")\n",
    "    image_resized = image.resize(target_size, Image.ANTIALIAS)\n",
    "    inputs = processor(images=image_resized, return_tensors=\"pt\")\n",
    "    with torch.no_grad():\n",
    "        outputs = model.get_image_features(**inputs)\n",
    "    image_features = outputs.numpy().squeeze()\n",
    "    return image_features, image_resized\n",
    "\n",
    "# 处理文本\n",
    "def preprocess_text(text_path):\n",
    "    with open(text_path, 'r', encoding='utf-8') as file:\n",
    "        text = file.read().strip()\n",
    "    inputs = processor(text=text, return_tensors=\"pt\", padding=True, truncation=True, max_length=77)\n",
    "    with torch.no_grad():\n",
    "        outputs = model.get_text_features(**inputs)\n",
    "    text_features = outputs.numpy().squeeze()\n",
    "    return text_features"
   ]
  },
  {
   "cell_type": "code",
   "execution_count": 24,
   "id": "f0f0f6ed",
   "metadata": {
    "scrolled": true
   },
   "outputs": [
    {
     "name": "stderr",
     "output_type": "stream",
     "text": [
      "D:\\Anaconda\\envs\\python37\\lib\\site-packages\\ipykernel_launcher.py:4: DeprecationWarning: ANTIALIAS is deprecated and will be removed in Pillow 10 (2023-07-01). Use LANCZOS or Resampling.LANCZOS instead.\n",
      "  after removing the cwd from sys.path.\n"
     ]
    }
   ],
   "source": [
    "# 模拟用户输入\n",
    "image_path = \"./user_input/user_photo.png\"\n",
    "text_path = \"./user_input/user_text.txt\"\n",
    "\n",
    "user_query_image, _ = preprocess_image(image_path)\n",
    "user_query_text = preprocess_text(text_path)\n",
    "\n",
    "user_query_text = torch.tensor(user_query_text, dtype=torch.float32)\n",
    "user_query_image = torch.tensor(user_query_image, dtype=torch.float32)"
   ]
  },
  {
   "cell_type": "code",
   "execution_count": 25,
   "id": "c596ad4c",
   "metadata": {
    "scrolled": false
   },
   "outputs": [
    {
     "name": "stdout",
     "output_type": "stream",
     "text": [
      "a close-up of a blue and white patterned surface, likely ceramic or porcelain, with a traditional design.\n"
     ]
    },
    {
     "name": "stderr",
     "output_type": "stream",
     "text": [
      "D:\\Anaconda\\envs\\python37\\lib\\site-packages\\ipykernel_launcher.py:4: DeprecationWarning: ANTIALIAS is deprecated and will be removed in Pillow 10 (2023-07-01). Use LANCZOS or Resampling.LANCZOS instead.\n",
      "  after removing the cwd from sys.path.\n"
     ]
    },
    {
     "data": {
      "image/png": "[encoded data removed]",
      "text/plain": [
       "<Figure size 640x480 with 1 Axes>"
      ]
     },
     "metadata": {},
     "output_type": "display_data"
    }
   ],
   "source": [
    "# 用户输入展示\n",
    "_, image_resized = preprocess_image(image_path)\n",
    "\n",
    "plt.imshow(image_resized)\n",
    "plt.axis('off')\n",
    "print(read_text_file(text_path))"
   ]
  },
  {
   "cell_type": "code",
   "execution_count": 26,
   "id": "96ae711c",
   "metadata": {
    "scrolled": false
   },
   "outputs": [
    {
     "name": "stdout",
     "output_type": "stream",
     "text": [
      "\n",
      "System Number: O161093\n",
      "Brief Description: Earthenware dish with decoration in blue on a white slip and under a clear glaze. Romanian (Tara Barsei region, Transylvania), 18th century.\n",
      "Image Link: No image link available\n",
      "No image available for this system number.\n",
      "====================================================================================================\n",
      "\n",
      "System Number: O136593\n",
      "Brief Description: Sherd of a porcelain bowl, decorated in underglaze cobalt blue, Qing dynasty, China.\n",
      "Image Link: No image link available\n",
      "No image available for this system number.\n",
      "====================================================================================================\n",
      "\n",
      "System Number: O437297\n",
      "Brief Description: Yixing ware. Cup, stoneware with mottled blue and white glaze; China (Yixing), 17th century\n",
      "Image Link: No image link available\n",
      "No image available for this system number.\n",
      "====================================================================================================\n",
      "\n",
      "System Number: O151234\n",
      "Brief Description: Dessert dish of salt-glazed stoneware, press-moulded, made in Staffordshire, ca. 1760.\n",
      "Image Link: No image link available\n",
      "No image available for this system number.\n",
      "====================================================================================================\n",
      "\n",
      "System Number: O71194\n",
      "Brief Description: Mug of salt-glazed stoneware with incised blue decoration, cylindrical in shape, and with incised borders inside and outside the rim, maker unknown, made in Staffordshire, dated 1758.\n",
      "Image Link: No image link available\n",
      "No image available for this system number.\n",
      "====================================================================================================\n"
     ]
    }
   ],
   "source": [
    "# 检索结果展示\n",
    "search_items = search(user_query_text=user_query_text, user_query_image=user_query_image)\n",
    "selected_rows = df_offline.iloc[search_items]\n",
    "\n",
    "display_most_similar(selected_rows)"
   ]
  },
  {
   "cell_type": "code",
   "execution_count": null,
   "id": "9d0673ae",
   "metadata": {},
   "outputs": [],
   "source": []
  }
 ],
 "metadata": {
  "kernelspec": {
   "display_name": "Python 3 (ipykernel)",
   "language": "python",
   "name": "python3"
  },
  "language_info": {
   "codemirror_mode": {
    "name": "ipython",
    "version": 3
   },
   "file_extension": ".py",
   "mimetype": "text/x-python",
   "name": "python",
   "nbconvert_exporter": "python",
   "pygments_lexer": "ipython3",
   "version": "3.7.2"
  }
 },
 "nbformat": 4,
 "nbformat_minor": 5
}
