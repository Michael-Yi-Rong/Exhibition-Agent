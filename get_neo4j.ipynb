{
 "cells": [
  {
   "cell_type": "code",
   "execution_count": 1,
   "id": "21acd026",
   "metadata": {},
   "outputs": [],
   "source": [
    "import pandas as pd\n",
    "import numpy as np\n",
    "import matplotlib.pyplot as plt\n",
    "import random\n",
    "from neo4j import GraphDatabase"
   ]
  },
  {
   "cell_type": "code",
   "execution_count": 2,
   "id": "f933ed4a",
   "metadata": {},
   "outputs": [],
   "source": [
    "df_combined = pd.read_csv(\"./datasets/exhibition_combined.csv\")"
   ]
  },
  {
   "cell_type": "code",
   "execution_count": 3,
   "id": "55deb973",
   "metadata": {},
   "outputs": [
    {
     "data": {
      "text/html": [
       "<div>\n",
       "<style scoped>\n",
       "    .dataframe tbody tr th:only-of-type {\n",
       "        vertical-align: middle;\n",
       "    }\n",
       "\n",
       "    .dataframe tbody tr th {\n",
       "        vertical-align: top;\n",
       "    }\n",
       "\n",
       "    .dataframe thead th {\n",
       "        text-align: right;\n",
       "    }\n",
       "</style>\n",
       "<table border=\"1\" class=\"dataframe\">\n",
       "  <thead>\n",
       "    <tr style=\"text-align: right;\">\n",
       "      <th></th>\n",
       "      <th>systemNumber</th>\n",
       "      <th>Column</th>\n",
       "      <th>Value</th>\n",
       "    </tr>\n",
       "  </thead>\n",
       "  <tbody>\n",
       "    <tr>\n",
       "      <th>0</th>\n",
       "      <td>O22904</td>\n",
       "      <td>accessionNumber</td>\n",
       "      <td>662 to C-1903</td>\n",
       "    </tr>\n",
       "    <tr>\n",
       "      <th>1</th>\n",
       "      <td>O187757</td>\n",
       "      <td>accessionNumber</td>\n",
       "      <td>C.326-1910</td>\n",
       "    </tr>\n",
       "    <tr>\n",
       "      <th>2</th>\n",
       "      <td>O185533</td>\n",
       "      <td>accessionNumber</td>\n",
       "      <td>683-1902</td>\n",
       "    </tr>\n",
       "    <tr>\n",
       "      <th>3</th>\n",
       "      <td>O162180</td>\n",
       "      <td>accessionNumber</td>\n",
       "      <td>C.240-1909</td>\n",
       "    </tr>\n",
       "    <tr>\n",
       "      <th>4</th>\n",
       "      <td>O151257</td>\n",
       "      <td>accessionNumber</td>\n",
       "      <td>3096-1852</td>\n",
       "    </tr>\n",
       "    <tr>\n",
       "      <th>...</th>\n",
       "      <td>...</td>\n",
       "      <td>...</td>\n",
       "      <td>...</td>\n",
       "    </tr>\n",
       "    <tr>\n",
       "      <th>54656</th>\n",
       "      <td>O333534</td>\n",
       "      <td>Depth</td>\n",
       "      <td>27 cm</td>\n",
       "    </tr>\n",
       "    <tr>\n",
       "      <th>54657</th>\n",
       "      <td>O1733355</td>\n",
       "      <td>Width</td>\n",
       "      <td>105 mm</td>\n",
       "    </tr>\n",
       "    <tr>\n",
       "      <th>54658</th>\n",
       "      <td>O1718349</td>\n",
       "      <td>Width</td>\n",
       "      <td>93 mm</td>\n",
       "    </tr>\n",
       "    <tr>\n",
       "      <th>54659</th>\n",
       "      <td>O308541</td>\n",
       "      <td>Height</td>\n",
       "      <td>1.9 cm</td>\n",
       "    </tr>\n",
       "    <tr>\n",
       "      <th>54660</th>\n",
       "      <td>O1743623</td>\n",
       "      <td>Depth</td>\n",
       "      <td>13 mm</td>\n",
       "    </tr>\n",
       "  </tbody>\n",
       "</table>\n",
       "<p>54661 rows × 3 columns</p>\n",
       "</div>"
      ],
      "text/plain": [
       "      systemNumber           Column          Value\n",
       "0           O22904  accessionNumber  662 to C-1903\n",
       "1          O187757  accessionNumber     C.326-1910\n",
       "2          O185533  accessionNumber       683-1902\n",
       "3          O162180  accessionNumber     C.240-1909\n",
       "4          O151257  accessionNumber      3096-1852\n",
       "...            ...              ...            ...\n",
       "54656      O333534            Depth          27 cm\n",
       "54657     O1733355            Width         105 mm\n",
       "54658     O1718349            Width          93 mm\n",
       "54659      O308541           Height         1.9 cm\n",
       "54660     O1743623            Depth          13 mm\n",
       "\n",
       "[54661 rows x 3 columns]"
      ]
     },
     "execution_count": 3,
     "metadata": {},
     "output_type": "execute_result"
    }
   ],
   "source": [
    "df_combined"
   ]
  },
  {
   "cell_type": "code",
   "execution_count": 8,
   "id": "3f6ddfea",
   "metadata": {
    "scrolled": true
   },
   "outputs": [
    {
     "name": "stdout",
     "output_type": "stream",
     "text": [
      "37089\n"
     ]
    }
   ],
   "source": [
    "df_cleaned = df_combined.dropna()\n",
    "\n",
    "triples = []\n",
    "for index, row in df_cleaned.iterrows():\n",
    "    subject = row['systemNumber']\n",
    "    predicate = row['Column']\n",
    "    object_ = row['Value']\n",
    "    triples.append((subject, predicate, object_))\n",
    "\n",
    "print(len(triples))"
   ]
  },
  {
   "cell_type": "code",
   "execution_count": 9,
   "id": "5b1a1109",
   "metadata": {},
   "outputs": [],
   "source": [
    "# 抽样展示\n",
    "# random.seed(42)\n",
    "# system_numbers = list(set([item[0] for item in triples]))\n",
    "# random_system_numbers = random.sample(system_numbers, 10)\n",
    "# selected_triples = [item for item in triples if item[0] in random_system_numbers]\n",
    "\n",
    "#print(\"随机抽取的 systemNumber:\", random_system_numbers)\n",
    "#  print(\"对应的元组:\", selected_tuples)"
   ]
  },
  {
   "cell_type": "code",
   "execution_count": 10,
   "id": "eb6b7b27",
   "metadata": {
    "scrolled": true
   },
   "outputs": [],
   "source": [
    "# 获得三元组\n",
    "# selected_triples"
   ]
  },
  {
   "cell_type": "code",
   "execution_count": 11,
   "id": "edb97af9",
   "metadata": {},
   "outputs": [],
   "source": [
    "# neo4j可视化\n",
    "class Neo4jConnection:\n",
    "    def __init__(self, uri, user, password):\n",
    "        self.driver = GraphDatabase.driver(uri, auth=(user, password))\n",
    "\n",
    "    def close(self):\n",
    "        self.driver.close()\n",
    "\n",
    "    def create_node_and_relationship(self, system_number, attribute, value):\n",
    "        try:\n",
    "            with self.driver.session() as session:\n",
    "                # 使用 attribute 作为关系类型\n",
    "                session.run(f\"\"\"\n",
    "                    MERGE (n:Entity {{systemNumber: $system_number}})\n",
    "                    MERGE (v:Value {{value: $value}})\n",
    "                    MERGE (n)-[:{attribute}]->(v)\n",
    "                \"\"\", system_number=system_number, value=value)\n",
    "        except Exception as e:\n",
    "            print(f\"Error creating node and relationship: {e}\")\n",
    "\n",
    "neo4j_conn = Neo4jConnection(\"bolt://localhost:7687\", \"neo4j\", \"ry123456\")"
   ]
  },
  {
   "cell_type": "code",
   "execution_count": 14,
   "id": "fa4b1f5a",
   "metadata": {},
   "outputs": [],
   "source": [
    "# 用neo4j打开\n",
    "# for triple in selected_triples:\n",
    "for triple in triples:\n",
    "    neo4j_conn.create_node_and_relationship(triple[0], triple[1], triple[2])\n",
    "\n",
    "neo4j_conn.close()"
   ]
  },
  {
   "cell_type": "code",
   "execution_count": null,
   "id": "bf8cecad",
   "metadata": {},
   "outputs": [],
   "source": [
    "# neo4j操作"
   ]
  },
  {
   "cell_type": "markdown",
   "id": "736e46cf",
   "metadata": {},
   "source": [
    "MATCH (n)-[r]->(a) \n",
    "\n",
    "RETURN n, TYPE(r) AS relationship, properties(r), a"
   ]
  },
  {
   "cell_type": "markdown",
   "id": "3bbcdf4c",
   "metadata": {},
   "source": [
    "MATCH (n) \n",
    "\n",
    "DETACH DELETE n;"
   ]
  },
  {
   "cell_type": "code",
   "execution_count": null,
   "id": "ba4fa9ed",
   "metadata": {},
   "outputs": [],
   "source": []
  }
 ],
 "metadata": {
  "kernelspec": {
   "display_name": "Python 3 (ipykernel)",
   "language": "python",
   "name": "python3"
  },
  "language_info": {
   "codemirror_mode": {
    "name": "ipython",
    "version": 3
   },
   "file_extension": ".py",
   "mimetype": "text/x-python",
   "name": "python",
   "nbconvert_exporter": "python",
   "pygments_lexer": "ipython3",
   "version": "3.7.2"
  }
 },
 "nbformat": 4,
 "nbformat_minor": 5
}
