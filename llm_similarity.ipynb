{
 "cells": [
  {
   "cell_type": "code",
   "execution_count": 1,
   "id": "ffeb69af",
   "metadata": {},
   "outputs": [],
   "source": [
    "import pandas as pd\n",
    "import numpy as np\n",
    "import os\n",
    "from sentence_transformers import SentenceTransformer, util\n",
    "from PIL import Image\n",
    "import matplotlib.pyplot as plt"
   ]
  },
  {
   "cell_type": "code",
   "execution_count": 2,
   "id": "39d6773a",
   "metadata": {},
   "outputs": [],
   "source": [
    "# 调用大语言模型\n",
    "class LLMClient:\n",
    "    \n",
    "    def __init__(self, host: str='36.137.79.97', port: int=30250):\n",
    "        self.client = openai.Client(\n",
    "            api_key=\"empty\",\n",
    "            base_url=f\"http://{host}:{port}/v1\")\n",
    "        models = self.client.models.list()\n",
    "        assert len(models.data) == 1\n",
    "        self.model = models.data[0].id\n",
    "        print(\"Use Model:\", self.model)\n",
    "    \n",
    "    def chat(self, **kwargs):\n",
    "        res = self.client.chat.completions.create(\n",
    "            model=self.model, **kwargs)\n",
    "        return [choice.message.content for choice in res.choices], dict(res.usage)\n",
    "\n",
    "    def complete(self, **kwargs):\n",
    "        res = self.client.completions.create(\n",
    "            model=self.model, **kwargs)\n",
    "        return [choice.text for choice in res.choices], dict(res.usage)"
   ]
  },
  {
   "cell_type": "code",
   "execution_count": 3,
   "id": "34542f3f",
   "metadata": {},
   "outputs": [],
   "source": [
    "# 读取数据\n",
    "df = pd.read_csv('./datasets/exhibition.csv')  \n",
    "\n",
    "# 清理数据：删除包含缺失值的行\n",
    "df_cleaned = df.dropna(subset=['briefDescription', 'physicalDescription', '_images__primary_thumbnail'])"
   ]
  },
  {
   "cell_type": "code",
   "execution_count": 4,
   "id": "ef961e63",
   "metadata": {},
   "outputs": [],
   "source": [
    "# 载入 Sentence 模型\n",
    "sbert_model_path = r'D:\\_HuggingFace_\\bge-large-en-v1.5'\n",
    "model = SentenceTransformer(sbert_model_path)"
   ]
  },
  {
   "cell_type": "code",
   "execution_count": 5,
   "id": "d7d90663",
   "metadata": {},
   "outputs": [],
   "source": [
    "def get_semantic_similarity(description: str, column_values: list):\n",
    "\n",
    "    # 清理 column_values，确保它们都是字符串类型，并且忽略为空的值\n",
    "    column_values = [str(val).strip() for val in column_values if str(val).strip() != '']\n",
    "    \n",
    "    if len(column_values) == 0:\n",
    "        # 如果 column_values 为空，返回空列表，表示没有有效的数据进行相似度计算\n",
    "        return []\n",
    "\n",
    "    # 编码用户描述和列的每个值\n",
    "    description_embedding = model.encode(description, convert_to_tensor=True)\n",
    "    column_embeddings = model.encode(column_values, convert_to_tensor=True)\n",
    "\n",
    "    # 计算语义相似度（余弦相似度）\n",
    "    cosine_scores = util.pytorch_cos_sim(description_embedding, column_embeddings)[0]\n",
    "    return cosine_scores"
   ]
  },
  {
   "cell_type": "code",
   "execution_count": 6,
   "id": "0a4ed3fd",
   "metadata": {},
   "outputs": [],
   "source": [
    "# 得到最相似的行\n",
    "def get_most_similar_row(description: str, columns: list, df: pd.DataFrame, similarity_threshold=0.2):\n",
    "    most_similar_row = {}\n",
    "\n",
    "    for column in columns:\n",
    "        if column in df.columns:  \n",
    "            column_values = df[column].tolist()\n",
    "            similarity_scores = get_semantic_similarity(description, column_values)\n",
    "\n",
    "            # 检查相似度数组是否为空\n",
    "            if len(similarity_scores) == 0:\n",
    "                print(f\"Warning: No valid similarity scores for column '{column}' (empty or invalid values).\")\n",
    "                continue  # 如果相似度计算失败，跳过该列\n",
    "\n",
    "            # 如果相似度最大值低于阈值，跳过该列\n",
    "            if similarity_scores.max() < similarity_threshold:\n",
    "                print(f\"Warning: All similarity scores for column '{column}' are below the threshold.\")\n",
    "                continue  # 跳过该列\n",
    "\n",
    "            # 将 similarity_scores 从 GPU 转移到 CPU\n",
    "            similarity_scores_cpu = similarity_scores.cpu() if similarity_scores.is_cuda else similarity_scores\n",
    "\n",
    "            # 获取相似度最高的一行\n",
    "            most_similar_index = similarity_scores_cpu.argmax()  # 找到相似度最高的索引\n",
    "\n",
    "            # 将最相似的一行记录保存到结果字典中\n",
    "            most_similar_row[column] = df.iloc[[most_similar_index]][['systemNumber', 'galleryLabels_0_text', 'briefDescription', 'physicalDescription', '_images__primary_thumbnail']]\n",
    "\n",
    "    return most_similar_row"
   ]
  },
  {
   "cell_type": "code",
   "execution_count": 7,
   "id": "281fc492",
   "metadata": {},
   "outputs": [],
   "source": [
    "# 展示结果\n",
    "def display_results(most_similar_row):\n",
    "    for column, rows in most_similar_row.items():\n",
    "        print(f\"\\nTop result for column: {column}\")\n",
    "        for idx, row in rows.iterrows():\n",
    "            print(f\"System Number: {row['systemNumber']}\")\n",
    "            print(f\"Gallery Label: {row['galleryLabels_0_text']}\")\n",
    "            print(f\"Brief Description: {row['briefDescription']}\")\n",
    "            print(f\"Physical Description: {row['physicalDescription']}\")\n",
    "            \n",
    "            # 获取并展示图片链接（假设图片超链接存在于 '_images__primary_thumbnail' 列）\n",
    "            print(f\"Image Link: {row['_images__primary_thumbnail']}\")\n",
    "            print(\"=\" * 40)"
   ]
  },
  {
   "cell_type": "code",
   "execution_count": 8,
   "id": "d3ba4233",
   "metadata": {},
   "outputs": [
    {
     "name": "stdout",
     "output_type": "stream",
     "text": [
      "请输入文物的描述信息：Yixing ware. Dish, in the form of a peach with peach flower relief decoration, stoneware with white glaze, China, Qing dynasty, 18th century. Yixing ware. Vase, brown stoneware with mottled blue-green glaze, after the style of Song dynasty Jun ware, China, Qing dynasty, 18th century.\n",
      "\n",
      "Top result for column: galleryLabels_0_text\n",
      "System Number: O1726884\n",
      "Gallery Label: 31.08 Vase; garden or flower pot decorated with dark brown slip; engine -turned and rouletted, applied swags and bows. White terra cotta stoneware with pearl glaze\n",
      "\n",
      "c. 1785\n",
      "Brief Description: Garden pot, white terra cotta stoneware decorated with dark brown slip and applied swags and bows, Josiah Wedgwood & sons, Etruria, ca. 1785\n",
      "Physical Description: White terra cotta flower pot decorated with dark brown slip, engine-turned and rouletted, with applied swags and bows decoration\n",
      "Image Link: https://framemark.vam.ac.uk/collections/2024NX4012/full/!100,100/0/default.jpg\n",
      "========================================\n",
      "\n",
      "Top result for column: briefDescription\n",
      "System Number: O187757\n",
      "Gallery Label: nan\n",
      "Brief Description: Yixing ware. Dish, in the form of a peach with peach flower relief decoration, stoneware with white glaze, China, Qing dynasty, 18th century\n",
      "Physical Description: Dish of stoneware, in the form of a sacred peach with blossoms springing from the stalk, standing on three legs. Covered with a crackled semi-opaque white glaze.\n",
      "\n",
      "This semi-opaque white glaze is one featured in Yijun (a jun type of glaze made in Yixing). The motif of peach bears the auspicious meaning of the longevities. \n",
      "Image Link: https://framemark.vam.ac.uk/collections/2010EB8011/full/!100,100/0/default.jpg\n",
      "========================================\n",
      "\n",
      "Top result for column: physicalDescription\n",
      "System Number: O187757\n",
      "Gallery Label: nan\n",
      "Brief Description: Yixing ware. Dish, in the form of a peach with peach flower relief decoration, stoneware with white glaze, China, Qing dynasty, 18th century\n",
      "Physical Description: Dish of stoneware, in the form of a sacred peach with blossoms springing from the stalk, standing on three legs. Covered with a crackled semi-opaque white glaze.\n",
      "\n",
      "This semi-opaque white glaze is one featured in Yijun (a jun type of glaze made in Yixing). The motif of peach bears the auspicious meaning of the longevities. \n",
      "Image Link: https://framemark.vam.ac.uk/collections/2010EB8011/full/!100,100/0/default.jpg\n",
      "========================================\n"
     ]
    }
   ],
   "source": [
    "def get_relevant_artifacts(df: pd.DataFrame):\n",
    "    description = input(\"请输入文物的描述信息：\")\n",
    "    \n",
    "    # 定义要检索的列\n",
    "    columns_to_check = ['galleryLabels_0_text', 'briefDescription', 'physicalDescription']\n",
    "    \n",
    "    most_similar_row = get_most_similar_row(description, columns_to_check, df)\n",
    "    \n",
    "    display_results(most_similar_row)\n",
    "\n",
    "get_relevant_artifacts(df_cleaned)"
   ]
  },
  {
   "cell_type": "code",
   "execution_count": null,
   "id": "1aaa4453",
   "metadata": {},
   "outputs": [],
   "source": []
  }
 ],
 "metadata": {
  "kernelspec": {
   "display_name": "Python 3 (ipykernel)",
   "language": "python",
   "name": "python3"
  },
  "language_info": {
   "codemirror_mode": {
    "name": "ipython",
    "version": 3
   },
   "file_extension": ".py",
   "mimetype": "text/x-python",
   "name": "python",
   "nbconvert_exporter": "python",
   "pygments_lexer": "ipython3",
   "version": "3.7.2"
  }
 },
 "nbformat": 4,
 "nbformat_minor": 5
}
